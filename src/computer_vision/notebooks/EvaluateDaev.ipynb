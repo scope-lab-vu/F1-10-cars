{
 "cells": [
  {
   "cell_type": "code",
   "execution_count": 9,
   "metadata": {},
   "outputs": [],
   "source": [
    "# import sys so we can use packages outside of this folder in\n",
    "# either python 2 or python 3\n",
    "import sys\n",
    "sys.path.insert(0,'..')\n",
    "\n",
    "#import other useful libraries\n",
    "import matplotlib.pyplot as plt\n",
    "import numpy as np\n",
    "from tensorflow.python.keras.models import load_model\n",
    "from preprocessing.utils import ImageUtils\n",
    "from sklearn.preprocessing import LabelBinarizer\n",
    "from sklearn.model_selection import train_test_split\n",
    "from sklearn.metrics import classification_report\n",
    "import tensorflow.keras.backend as K  \n",
    "\n",
    "\n",
    "# Location of data and model\n",
    "\n",
    "DATASET ='../data'\n",
    "MODEL = '../models/daev_accuracy.hdf5'\n",
    "\n",
    "#desired height and width these come from the DAVE model\n",
    "\n",
    "HEIGHT= 66\n",
    "WIDTH= 200\n",
    "BATCH_SIZE = 128"
   ]
  },
  {
   "cell_type": "code",
   "execution_count": 10,
   "metadata": {},
   "outputs": [],
   "source": [
    "#define a custom metric for DAEV, accuracy doesn't cut it\n",
    "def customAccuracy(y_true, y_pred):\n",
    "    diff = K.abs(y_true-y_pred) #absolute difference between correct and predicted values\n",
    "    correct = K.less(diff,0.01) #tensor with 0 for false values and 1 for true values\n",
    "    return K.mean(correct) #sum all 1's and divide by the total. "
   ]
  },
  {
   "cell_type": "code",
   "execution_count": 11,
   "metadata": {},
   "outputs": [],
   "source": [
    "#load the image utils\n",
    "iu=ImageUtils()\n",
    "\n",
    "data,labels=iu.load_from_directory(DATASET,HEIGHT,WIDTH,verbose=1,regression=True)\n",
    "\n",
    "#normalize the images and commands\n",
    "\n",
    "commands=labels/0.6108652353\n",
    "data=data/255.0\n",
    "\n",
    "# load the model \n",
    "\n",
    "model=load_model(MODEL,custom_objects={'customAccuracy': customAccuracy})"
   ]
  },
  {
   "cell_type": "code",
   "execution_count": 26,
   "metadata": {},
   "outputs": [
    {
     "name": "stdout",
     "output_type": "stream",
     "text": [
      "5765/5765 [==============================] - 2s 335us/sample\n",
      "Accuracy: 0.938074588031\n"
     ]
    }
   ],
   "source": [
    "# make predictions\n",
    "predictions = model.predict(data, batch_size=BATCH_SIZE,verbose=1)\n",
    "\n",
    "acc=np.mean((commands-predictions)<0.01)\n",
    "print(\"Accuracy: {}\".format(acc))"
   ]
  }
 ],
 "metadata": {
  "kernelspec": {
   "display_name": "Python 2",
   "language": "python",
   "name": "python2"
  },
  "language_info": {
   "codemirror_mode": {
    "name": "ipython",
    "version": 2
   },
   "file_extension": ".py",
   "mimetype": "text/x-python",
   "name": "python",
   "nbconvert_exporter": "python",
   "pygments_lexer": "ipython2",
   "version": "2.7.16"
  }
 },
 "nbformat": 4,
 "nbformat_minor": 2
}
