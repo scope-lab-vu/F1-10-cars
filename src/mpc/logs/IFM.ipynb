{
 "cells": [
  {
   "cell_type": "code",
   "execution_count": 1,
   "metadata": {},
   "outputs": [],
   "source": [
    "import pandas as pd\n",
    "import numpy as np \n",
    "import seaborn as sns\n",
    "import matplotlib.pyplot as plt\n",
    "sns.set_theme(style=\"white\")\n",
    "import os\n",
    "import os"
   ]
  },
  {
   "cell_type": "markdown",
   "metadata": {},
   "source": [
    "### Utilities "
   ]
  },
  {
   "cell_type": "code",
   "execution_count": 7,
   "metadata": {},
   "outputs": [],
   "source": [
    "def summarize_directory(directory,print_errors=False,obstacle=\"false\"):\n",
    "    track_lengths = {\"track_porto\": 57.492612883355136,\"racecar_walker\": 73.2483359322749,\"track_barca\": 221.14172044855775}\n",
    "    track_names = {'track_porto':\"Porto\",'racecar_walker':'Walker','track_barca':\"Barca\"}\n",
    "    controller_names = {\"mpcc\":\"MPCC\",\"mpc_hype\":\"MPC Hype\",\"disparity_extender\":\"DE\",\"pure_pursuit\":\"Pure Pursuit\"}\n",
    "    target_controllers = {\"disparity_extender\":\"DE\",\"pure_pursuit\":\"Pure Pursuit\"}\n",
    "    progress_file_str = \"progress_{}_{}_{}_{}_{}.csv\"\n",
    "    collision_file_str = \"collisions_{}_{}_{}_{}_{}.csv\"\n",
    "    start_str = directory + '/'\n",
    "    cols={0:\"racecar_name\",1:\"laps_completed\",2:\"race_time\",3:\"experiment_number\"}\n",
    "    rows = []\n",
    "\n",
    "    interesting_dfs = []\n",
    "    for track in track_names.keys():\n",
    "        for controller in controller_names.keys():\n",
    "            for opp in target_controllers.keys():\n",
    "                for target in target_controllers:\n",
    "                    try:\n",
    "                        pdf = start_str+progress_file_str.format(track,obstacle,controller,opp,target)\n",
    "\n",
    "                        cdf = start_str+collision_file_str.format(track,obstacle,controller,opp,target)\n",
    "\n",
    "\n",
    "                        df = pd.read_csv(pdf,header=None).rename(columns=cols)\n",
    "\n",
    "                        # some of the measurement's are not correct\n",
    "                        rows_to_drop = df[(df['laps_completed'] > 0.5) & (df['race_time'] < 12)].index.values\n",
    "                        df.drop(rows_to_drop)\n",
    "\n",
    "                        # some controller's have perfect safey so there will not be a collision file\n",
    "                        if(os.path.exists(cdf)):\n",
    "                            df2 = pd.read_csv(cdf,header=None)[0:30]\n",
    "                            val = 100 * (1-(df2.count()[0]/30))\n",
    "                        else:\n",
    "                            val = 100.0\n",
    "                        new_df =  df.groupby(\"racecar_name\").median()\n",
    "                        new_df['efficiency'] = (new_df['laps_completed'] / new_df['race_time']) * track_lengths[track]\n",
    "                        new_df = new_df.reset_index()\n",
    "                        if(controller=='mpc_hype' or controller == \"mpcc\"):\n",
    "                            row = [track_names[track],controller_names[controller],target_controllers[opp],target_controllers[target],new_df[new_df['racecar_name'] =='racecar2']['efficiency'].values[0],new_df[new_df['racecar_name'] =='racecar']['efficiency'].values[0],new_df['race_time'][0],val]\n",
    "                        else:\n",
    "                            row = [track_names[track],controller_names[controller],target_controllers[opp],controller_names[controller],new_df[new_df['racecar_name'] =='racecar2']['efficiency'].values[0],new_df[new_df['racecar_name'] =='racecar']['efficiency'].values[0],new_df['race_time'][0],val]\n",
    "                        rows.append(row)\n",
    "\n",
    "                        if(new_df['efficiency'].max()>6):\n",
    "                            interesting_dfs.append(df)\n",
    "                    except Exception as e:\n",
    "                        if(print_errors):\n",
    "                            print(e)\n",
    "                        continue\n",
    "    return rows"
   ]
  },
  {
   "cell_type": "markdown",
   "metadata": {},
   "source": [
    "### Two Car Experiments"
   ]
  },
  {
   "cell_type": "code",
   "execution_count": 15,
   "metadata": {},
   "outputs": [
    {
     "name": "stdout",
     "output_type": "stream",
     "text": [
      "\\begin{tabular}{llllrrrr}\n",
      "\\toprule\n",
      "{} &      Approach & Opponent Controller & Local Planner &  Ego Efficiency &  Opponent Efficiency &  Race Duration (s) &  Safety \\\\\n",
      "Track  &               &                     &               &                 &                      &                    &         \\\\\n",
      "\\midrule\n",
      "Barca  &            DE &                  DE &            DE &            5.14 &                 4.48 &               7.66 &    0.00 \\\\\n",
      "Barca  &      MPC Hype &                  DE &            DE &            0.00 &                 5.85 &               5.47 &    0.00 \\\\\n",
      "Barca  &      MPC Hype &                  DE &  Pure Pursuit &            0.06 &                 5.74 &               5.49 &    0.00 \\\\\n",
      "Barca  &          MPCC &                  DE &            DE &            3.18 &                 3.01 &              11.26 &    0.00 \\\\\n",
      "Barca  &          MPCC &                  DE &  Pure Pursuit &            3.01 &                 3.09 &              10.90 &    3.33 \\\\\n",
      "Barca  &  Pure Pursuit &                  DE &  Pure Pursuit &            5.25 &                 4.73 &               7.36 &    0.00 \\\\\n",
      "Porto  &            DE &                  DE &            DE &            5.29 &                 4.65 &              51.57 &   38.33 \\\\\n",
      "Porto  &      MPC Hype &                  DE &            DE &            0.00 &                 5.27 &               5.53 &    0.00 \\\\\n",
      "Porto  &      MPC Hype &                  DE &  Pure Pursuit &            3.06 &                 5.18 &              25.74 &   13.33 \\\\\n",
      "Porto  &          MPCC &                  DE &            DE &            3.00 &                 4.97 &               7.12 &   20.00 \\\\\n",
      "Porto  &          MPCC &                  DE &  Pure Pursuit &            3.00 &                 5.34 &              55.14 &   46.67 \\\\\n",
      "Porto  &  Pure Pursuit &                  DE &  Pure Pursuit &            4.70 &                 5.33 &              57.50 &  100.00 \\\\\n",
      "Walker &            DE &                  DE &            DE &            4.50 &                 4.98 &               6.98 &   25.00 \\\\\n",
      "Walker &      MPC Hype &                  DE &            DE &            0.06 &                 4.72 &               5.51 &    3.33 \\\\\n",
      "Walker &      MPC Hype &                  DE &  Pure Pursuit &            1.34 &                 4.71 &               5.54 &    0.00 \\\\\n",
      "Walker &          MPCC &                  DE &            DE &            3.24 &                 5.10 &              38.94 &   10.00 \\\\\n",
      "Walker &          MPCC &                  DE &  Pure Pursuit &            4.10 &                 5.14 &              14.86 &   10.00 \\\\\n",
      "Walker &  Pure Pursuit &                  DE &  Pure Pursuit &            6.34 &                 5.14 &              57.48 &  100.00 \\\\\n",
      "\\bottomrule\n",
      "\\end{tabular}\n",
      "\n"
     ]
    }
   ],
   "source": [
    "rows = summarize_directory('two_vehicle_experiments')\n",
    "df = pd.DataFrame(rows, columns =['Track', 'Approach','Opponent Controller','Local Planner','Ego Efficiency','Opponent Efficiency','Race Duration (s)','Safety'])\n",
    "df = df.groupby(['Track', 'Approach','Opponent Controller','Local Planner']).mean().reset_index()\n",
    "df = round(df,2)\n",
    "df = df.set_index('Track').sort_values(by=[\"Track\",\"Approach\"])\n",
    "print(df.to_latex())"
   ]
  },
  {
   "cell_type": "markdown",
   "metadata": {},
   "source": [
    "### Three Car Experiments"
   ]
  },
  {
   "cell_type": "code",
   "execution_count": 16,
   "metadata": {},
   "outputs": [
    {
     "name": "stdout",
     "output_type": "stream",
     "text": [
      "\\begin{tabular}{llllrrrr}\n",
      "\\toprule\n",
      "{} &      Approach & Opponent Controller & Local Planner &  Ego Efficiency &  Opponent Efficiency &  Race Duration (s) &  Safety \\\\\n",
      "Track  &               &                     &               &                 &                      &                    &         \\\\\n",
      "\\midrule\n",
      "Barca  &            DE &                  DE &            DE &            5.05 &                 4.59 &               6.07 &    0.00 \\\\\n",
      "Barca  &      MPC Hype &                  DE &            DE &            0.69 &                 5.11 &               5.37 &    0.00 \\\\\n",
      "Barca  &      MPC Hype &                  DE &  Pure Pursuit &            0.09 &                 4.64 &               5.36 &    0.00 \\\\\n",
      "Barca  &          MPCC &                  DE &            DE &            3.30 &                 2.70 &              10.60 &    0.00 \\\\\n",
      "Barca  &          MPCC &                  DE &  Pure Pursuit &            3.37 &                 3.10 &               9.97 &    0.00 \\\\\n",
      "Barca  &  Pure Pursuit &                  DE &  Pure Pursuit &            5.41 &                 3.95 &               7.14 &    0.00 \\\\\n",
      "Porto  &            DE &                  DE &            DE &            5.38 &                 4.10 &              33.78 &   28.33 \\\\\n",
      "Porto  &      MPC Hype &                  DE &            DE &            1.19 &                 4.50 &               5.40 &    0.00 \\\\\n",
      "Porto  &      MPC Hype &                  DE &  Pure Pursuit &            2.75 &                 2.96 &              43.26 &   30.00 \\\\\n",
      "Porto  &          MPCC &                  DE &            DE &            1.66 &                 4.23 &               5.39 &    3.33 \\\\\n",
      "Porto  &          MPCC &                  DE &  Pure Pursuit &            1.83 &                 4.00 &               5.37 &   16.67 \\\\\n",
      "Porto  &  Pure Pursuit &                  DE &  Pure Pursuit &            4.70 &                 3.73 &              57.30 &   70.00 \\\\\n",
      "Walker &            DE &                  DE &            DE &            4.68 &                 5.23 &               5.44 &    1.67 \\\\\n",
      "Walker &      MPC Hype &                  DE &            DE &            0.99 &                 5.27 &               5.36 &    0.00 \\\\\n",
      "Walker &      MPC Hype &                  DE &  Pure Pursuit &            2.15 &                 5.27 &               5.37 &    0.00 \\\\\n",
      "Walker &          MPCC &                  DE &            DE &            3.29 &                 3.27 &              54.99 &   50.00 \\\\\n",
      "Walker &          MPCC &                  DE &  Pure Pursuit &            4.64 &                 3.54 &              20.78 &   13.33 \\\\\n",
      "Walker &  Pure Pursuit &                  DE &  Pure Pursuit &            6.35 &                 5.21 &              57.31 &   88.33 \\\\\n",
      "\\bottomrule\n",
      "\\end{tabular}\n",
      "\n"
     ]
    }
   ],
   "source": [
    "rows = summarize_directory('three_vehicle_experiments')\n",
    "df2 = pd.DataFrame(rows, columns =['Track', 'Approach','Opponent Controller','Local Planner','Ego Efficiency','Opponent Efficiency','Race Duration (s)','Safety'])\n",
    "df2 = df2.groupby(['Track', 'Approach','Opponent Controller','Local Planner']).mean().reset_index()\n",
    "df2 = round(df2,2)\n",
    "df2 = df2.set_index('Track').sort_values(by=[\"Track\",\"Approach\"])\n",
    "print(df2.to_latex())"
   ]
  },
  {
   "cell_type": "markdown",
   "metadata": {
    "scrolled": true
   },
   "source": [
    "### Dynamic Obstacle Experiments"
   ]
  },
  {
   "cell_type": "code",
   "execution_count": 17,
   "metadata": {},
   "outputs": [
    {
     "name": "stdout",
     "output_type": "stream",
     "text": [
      "\\begin{tabular}{llllrrrr}\n",
      "\\toprule\n",
      "{} &      Approach & Opponent Controller & Local Planner &  Ego Efficiency &  Opponent Efficiency &  Race Duration (s) &  Safety \\\\\n",
      "Track &               &                     &               &                 &                      &                    &         \\\\\n",
      "\\midrule\n",
      "Porto &            DE &                  DE &            DE &            4.96 &                 3.93 &              22.93 &   13.33 \\\\\n",
      "Porto &      MPC Hype &                  DE &            DE &            1.08 &                 4.77 &               5.39 &    0.00 \\\\\n",
      "Porto &      MPC Hype &                  DE &  Pure Pursuit &            2.16 &                 4.42 &               9.05 &    0.00 \\\\\n",
      "Porto &          MPCC &                  DE &            DE &            2.78 &                 5.20 &              11.32 &    0.00 \\\\\n",
      "Porto &          MPCC &                  DE &  Pure Pursuit &            1.32 &                 4.61 &               5.40 &    0.00 \\\\\n",
      "Porto &  Pure Pursuit &                  DE &  Pure Pursuit &            4.45 &                 4.83 &              15.42 &    1.67 \\\\\n",
      "\\bottomrule\n",
      "\\end{tabular}\n",
      "\n"
     ]
    }
   ],
   "source": [
    "rows = summarize_directory('dynamic_obstacle_experiments',obstacle=\"true\")\n",
    "df3 = pd.DataFrame(rows, columns =['Track', 'Approach','Opponent Controller','Local Planner','Ego Efficiency','Opponent Efficiency','Race Duration (s)','Safety'])\n",
    "df3 = df3.groupby(['Track', 'Approach','Opponent Controller','Local Planner']).mean().reset_index()\n",
    "df3 = round(df3,2)\n",
    "df3 = df3.set_index('Track').sort_values(by=[\"Track\",\"Approach\"])\n",
    "print(df3.to_latex())"
   ]
  },
  {
   "cell_type": "markdown",
   "metadata": {},
   "source": [
    "### Static Obstacle Experiments"
   ]
  },
  {
   "cell_type": "code",
   "execution_count": 18,
   "metadata": {},
   "outputs": [
    {
     "name": "stdout",
     "output_type": "stream",
     "text": [
      "\\begin{tabular}{llllrrrr}\n",
      "\\toprule\n",
      "{} &      Approach & Opponent Controller & Local Planner &  Ego Efficiency &  Opponent Efficiency &  Race Duration (s) &  Safety \\\\\n",
      "Track &               &                     &               &                 &                      &                    &         \\\\\n",
      "\\midrule\n",
      "Porto &            DE &                  DE &            DE &            0.73 &                 1.76 &               5.47 &    0.00 \\\\\n",
      "Porto &      MPC Hype &                  DE &            DE &            0.92 &                 2.13 &               5.57 &    0.00 \\\\\n",
      "Porto &      MPC Hype &                  DE &  Pure Pursuit &            2.21 &                 0.55 &              12.27 &    0.00 \\\\\n",
      "Porto &          MPCC &                  DE &            DE &            1.24 &                 1.46 &               7.66 &    6.67 \\\\\n",
      "Porto &          MPCC &                  DE &  Pure Pursuit &            2.77 &                 1.90 &               9.91 &    0.00 \\\\\n",
      "Porto &  Pure Pursuit &                  DE &  Pure Pursuit &            3.00 &                 1.21 &               6.48 &    1.67 \\\\\n",
      "\\bottomrule\n",
      "\\end{tabular}\n",
      "\n"
     ]
    }
   ],
   "source": [
    "rows = summarize_directory('static_obstacle_experiments',False,obstacle=\"false\")\n",
    "df4 = pd.DataFrame(rows, columns =['Track', 'Approach','Opponent Controller','Local Planner','Ego Efficiency','Opponent Efficiency','Race Duration (s)','Safety'])\n",
    "df4 = df4.groupby(['Track', 'Approach','Opponent Controller','Local Planner']).mean().reset_index()\n",
    "df4 = round(df4,2)\n",
    "df4 = df4.set_index('Track').sort_values(by=[\"Track\",\"Approach\"])\n",
    "print(df4.to_latex())"
   ]
  },
  {
   "cell_type": "code",
   "execution_count": null,
   "metadata": {},
   "outputs": [],
   "source": []
  }
 ],
 "metadata": {
  "kernelspec": {
   "display_name": "Python 3",
   "language": "python",
   "name": "python3"
  },
  "language_info": {
   "codemirror_mode": {
    "name": "ipython",
    "version": 3
   },
   "file_extension": ".py",
   "mimetype": "text/x-python",
   "name": "python",
   "nbconvert_exporter": "python",
   "pygments_lexer": "ipython3",
   "version": "3.7.3"
  }
 },
 "nbformat": 4,
 "nbformat_minor": 5
}
