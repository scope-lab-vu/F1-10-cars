{
 "cells": [
  {
   "cell_type": "code",
   "execution_count": 2,
   "metadata": {},
   "outputs": [],
   "source": [
    "import pandas as pd\n",
    "import numpy as np \n",
    "from utils import summarize_data"
   ]
  },
  {
   "cell_type": "markdown",
   "metadata": {},
   "source": [
    "# Analysis of Benchmark Data "
   ]
  },
  {
   "cell_type": "markdown",
   "metadata": {},
   "source": [
    "The benchmarking experiments were run on three different machines. A Dell XPS-15, DellPrecision 7520, NVIDIA Jetson TX2 4GB. The metrics reported in the paper come from those experiments."
   ]
  },
  {
   "cell_type": "markdown",
   "metadata": {},
   "source": [
    "## Load the Benchmark Files"
   ]
  },
  {
   "cell_type": "markdown",
   "metadata": {},
   "source": [
    "#### For logging Purposes"
   ]
  },
  {
   "cell_type": "code",
   "execution_count": 73,
   "metadata": {},
   "outputs": [],
   "source": [
    "total_e2e_sim = 0 \n",
    "total_rl_sim = 0\n",
    "total_e2e_hardware = 0 \n",
    "total_rl_hardware = 0"
   ]
  },
  {
   "cell_type": "code",
   "execution_count": 74,
   "metadata": {},
   "outputs": [],
   "source": [
    "e2e_data = pd.read_csv('e2ebenchmark1.csv',header=0)\n",
    "e2e_data2 = pd.read_csv('e2ebenchmark2.csv',header=0)\n",
    "e2e_data3 = pd.read_csv('e2ebenchmark3.csv',header=0)\n",
    "rl_data = pd.read_csv('rl_benchmark1.csv',header=0)\n",
    "rl_data2 = pd.read_csv('rl_benchmark2.csv',header=0)\n",
    "rl_data3 = pd.read_csv('rl_benchmark3.csv',header=0)"
   ]
  },
  {
   "cell_type": "markdown",
   "metadata": {},
   "source": [
    "### RL Experiments  Dell XPS 15, Experiment 1"
   ]
  },
  {
   "cell_type": "code",
   "execution_count": 75,
   "metadata": {},
   "outputs": [
    {
     "name": "stdout",
     "output_type": "stream",
     "text": [
      "\n",
      "lec usage %: 29.93  | safety_controller usage %: 70.07 | moet:  62.7 | mean_et: 34.0  | num_experiments:  49\n"
     ]
    }
   ],
   "source": [
    "total_rl_sim += summarize_data(rl_data,sep_str='')"
   ]
  },
  {
   "cell_type": "markdown",
   "metadata": {},
   "source": [
    "### RL Experiments Dell XPS 15, Experiment 2"
   ]
  },
  {
   "cell_type": "code",
   "execution_count": 76,
   "metadata": {},
   "outputs": [
    {
     "name": "stdout",
     "output_type": "stream",
     "text": [
      "\n",
      "lec usage %: 38.51  | safety_controller usage %: 61.49 | moet:  54.8 | mean_et: 38.9  | num_experiments:  76\n"
     ]
    }
   ],
   "source": [
    "total_rl_sim +=summarize_data(rl_data3,sep_str='')"
   ]
  },
  {
   "cell_type": "markdown",
   "metadata": {},
   "source": [
    "### RL Experiments Dell Precision 7520"
   ]
  },
  {
   "cell_type": "code",
   "execution_count": 77,
   "metadata": {},
   "outputs": [
    {
     "name": "stdout",
     "output_type": "stream",
     "text": [
      "\n",
      "lec usage %: 45.55  | safety_controller usage %: 54.45 | moet:  49.8 | mean_et: 30.5  | num_experiments:  60\n"
     ]
    }
   ],
   "source": [
    "total_rl_sim += summarize_data(rl_data2,sep_str='')"
   ]
  },
  {
   "cell_type": "markdown",
   "metadata": {},
   "source": [
    "### End-to-End Experiments  Dell XPS 15, Experiment 1"
   ]
  },
  {
   "cell_type": "code",
   "execution_count": 78,
   "metadata": {},
   "outputs": [
    {
     "name": "stdout",
     "output_type": "stream",
     "text": [
      "\n",
      "lec usage %: 13.94  | safety_controller usage %: 86.06 | moet:  60.4 | mean_et: 32.6  | num_experiments:  50\n"
     ]
    }
   ],
   "source": [
    "total_e2e_sim += summarize_data(e2e_data,sep_str='')"
   ]
  },
  {
   "cell_type": "markdown",
   "metadata": {},
   "source": [
    "### End-to-End Experiments  Dell XPS 15, Experiment 2"
   ]
  },
  {
   "cell_type": "code",
   "execution_count": 79,
   "metadata": {},
   "outputs": [
    {
     "name": "stdout",
     "output_type": "stream",
     "text": [
      "\n",
      "lec usage %: 14.91  | safety_controller usage %: 85.09 | moet:  46.0 | mean_et: 20.8  | num_experiments:  87\n"
     ]
    }
   ],
   "source": [
    "total_e2e_sim += summarize_data(e2e_data3,sep_str='')"
   ]
  },
  {
   "cell_type": "markdown",
   "metadata": {},
   "source": [
    "### End-to-End Experiments  Dell Precision 7520"
   ]
  },
  {
   "cell_type": "code",
   "execution_count": 80,
   "metadata": {},
   "outputs": [
    {
     "name": "stdout",
     "output_type": "stream",
     "text": [
      "\n",
      "lec usage %: 7.8  | safety_controller usage %: 92.2 | moet:  48.2 | mean_et: 27.9  | num_experiments:  64\n"
     ]
    }
   ],
   "source": [
    "total_e2e_sim = summarize_data(e2e_data2,sep_str='')"
   ]
  },
  {
   "cell_type": "markdown",
   "metadata": {},
   "source": [
    "# Hardware Experiments, Jetson TX2"
   ]
  },
  {
   "cell_type": "code",
   "execution_count": 81,
   "metadata": {},
   "outputs": [],
   "source": [
    "e2e_hw = pd.read_csv('e2e_hardware.csv',header=0)\n",
    "rl_hw = pd.read_csv('rl_hardware_becnhmark.csv',header=0)"
   ]
  },
  {
   "cell_type": "markdown",
   "metadata": {},
   "source": [
    "### End-to-End Controller"
   ]
  },
  {
   "cell_type": "code",
   "execution_count": 82,
   "metadata": {},
   "outputs": [
    {
     "name": "stdout",
     "output_type": "stream",
     "text": [
      "\n",
      "lec usage %: 3.97  | safety_controller usage %: 96.03 | moet:  42.6 | mean_et: 11.3  | num_experiments:  24\n"
     ]
    }
   ],
   "source": [
    "total_e2e_hardware +=summarize_data(e2e_hw,sep_str='')"
   ]
  },
  {
   "cell_type": "markdown",
   "metadata": {},
   "source": [
    "### Reinforcement Learning Controller"
   ]
  },
  {
   "cell_type": "code",
   "execution_count": 83,
   "metadata": {},
   "outputs": [
    {
     "name": "stdout",
     "output_type": "stream",
     "text": [
      "\n",
      "lec usage %: 5.3  | safety_controller usage %: 94.7 | moet:  40.8 | mean_et: 10.6  | num_experiments:  33\n"
     ]
    }
   ],
   "source": [
    "total_rl_hardware+=summarize_data(rl_hw,sep_str='')"
   ]
  },
  {
   "cell_type": "markdown",
   "metadata": {},
   "source": [
    "# Experiments Without Obstacles"
   ]
  },
  {
   "cell_type": "markdown",
   "metadata": {},
   "source": [
    "### Reinforcement Learning "
   ]
  },
  {
   "cell_type": "code",
   "execution_count": 84,
   "metadata": {},
   "outputs": [
    {
     "name": "stdout",
     "output_type": "stream",
     "text": [
      "\n",
      "lec usage %: 61.83  | safety_controller usage %: 38.17 | moet:  47.9 | mean_et: 31.0  | num_experiments:  52\n"
     ]
    }
   ],
   "source": [
    "rl_data = pd.read_csv('rl_no_obs_benchmark.csv',header=0)\n",
    "total_rl_sim += summarize_data(rl_data,sep_str='')"
   ]
  },
  {
   "cell_type": "markdown",
   "metadata": {},
   "source": [
    "### End-to-End Learning"
   ]
  },
  {
   "cell_type": "code",
   "execution_count": 85,
   "metadata": {},
   "outputs": [
    {
     "name": "stdout",
     "output_type": "stream",
     "text": [
      "\n",
      "lec usage %: 5.84  | safety_controller usage %: 94.16 | moet:  41.9 | mean_et: 19.3  | num_experiments:  57\n"
     ]
    }
   ],
   "source": [
    "e2e_data = pd.read_csv('e2e_no_obstacles.csv',header=0)\n",
    "total_e2e_sim += summarize_data(e2e_data,sep_str='')"
   ]
  },
  {
   "cell_type": "markdown",
   "metadata": {},
   "source": [
    "# Experiments With Variation in Obstacles, Speed and Walltime"
   ]
  },
  {
   "cell_type": "code",
   "execution_count": 86,
   "metadata": {},
   "outputs": [],
   "source": [
    "e0625 = pd.read_csv('e2e_no_obs_benchmark_06_25.csv',header=0)\n",
    "e1025 = pd.read_csv('e2e_no_obs_banchmark_10_25.csv',header=0)\n",
    "e1525 = pd.read_csv('e2e_no_obs_benchmark_15_25.csv',header=0)\n",
    "e0610 = pd.read_csv('e2e_no_obs_benchmark_06_10.csv',header=0)\n",
    "e1010 = pd.read_csv('e2e_no_obs_benchmark_10_10.csv',header=0)\n",
    "e1510 = pd.read_csv('e2e_no_obs_benchmark_15_10.csv',header=0)\n",
    "\n",
    "e0625_obs=pd.read_csv('e2e_obs_benchmark_06_25.csv',header=0)\n",
    "e1025_obs =pd.read_csv('e2ebenchmark2.csv',header = 0)\n",
    "e1525_obs=pd.read_csv('e2e_obs_benchmark_15_25.csv',header=0)\n",
    "e0610_obs = pd.read_csv('e2e_obs_benchmark_06_10.csv',header=0)\n",
    "e1010_obs = pd.read_csv('e2e_obs_benchmark_10_10.csv',header=0)\n",
    "e1510_obs = pd.read_csv('e2e_obs_benchmark_15_10.csv',header=0)\n",
    "\n",
    "\n",
    "r0625_obs= pd.read_csv('rl_obs_benchmark_06_25.csv',header=0)\n",
    "r1025_obs = pd.read_csv('rl_benchmark2.csv',header = 0)\n",
    "r1525_obs=pd.read_csv('rl_obs_benchmark_15_25.csv',header=0)\n",
    "r0610_obs = pd.read_csv('rl_obs_benchmark_06_10.csv',header=0)\n",
    "r1010_obs = pd.read_csv('rl_obs_benchmark_10_10.csv',header=0)\n",
    "r1510_obs = pd.read_csv('rl_obs_benchmark_15_10.csv',header=0)\n",
    "\n",
    "\n",
    "\n",
    "r0625 = pd.read_csv('rl_no_obs_benchmark_06_25.csv',header=0)\n",
    "r1025 = pd.read_csv('rl_no_obs_benchmark_10_25.csv',header=0)\n",
    "r1525 = pd.read_csv('rl_no_obs_benchmark_15_25.csv',header=0)\n",
    "r0610 = pd.read_csv('rl_no_obs_benchmark_06_10.csv',header=0)\n",
    "r1010 = pd.read_csv('rl_no_obs_benchmark_10_10.csv',header=0)\n",
    "r1510 = pd.read_csv('rl_no_obs_benchmark_15_10.csv',header=0)"
   ]
  },
  {
   "cell_type": "markdown",
   "metadata": {},
   "source": [
    "### End-to-End Experiments Without Obstacles "
   ]
  },
  {
   "cell_type": "code",
   "execution_count": 87,
   "metadata": {},
   "outputs": [
    {
     "name": "stdout",
     "output_type": "stream",
     "text": [
      "speed: 0.6ms, wall_time: 10ms\n",
      "\n",
      "lec usage %: 6.94  | safety_controller usage %: 93.06 | moet:  21.9 | mean_et: 12.5 \n",
      "============================================================================================ | num_experiments:  31\n",
      "speed: 1.0ms, wall_time: 10ms\n",
      "\n",
      "lec usage %: 6.24  | safety_controller usage %: 93.76 | moet:  21.7 | mean_et: 11.8 \n",
      "============================================================================================ | num_experiments:  52\n",
      "speed: 1.5ms, wall_time: 10ms\n",
      "\n",
      "lec usage %: 5.22  | safety_controller usage %: 94.78 | moet:  22.5 | mean_et: 10.2 \n",
      "============================================================================================ | num_experiments:  25\n",
      "speed: 0.6ms, wall_time: 25ms\n",
      "\n",
      "lec usage %: 10.26  | safety_controller usage %: 89.74 | moet:  40.3 | mean_et: 20.2 \n",
      "============================================================================================ | num_experiments:  33\n",
      "speed: 1.0ms, wall_time: 25ms\n",
      "\n",
      "lec usage %: 5.84  | safety_controller usage %: 94.16 | moet:  41.9 | mean_et: 19.3 \n",
      "============================================================================================ | num_experiments:  57\n",
      "speed: 1.5ms, wall_time: 25ms\n",
      "\n",
      "lec usage %: 5.17  | safety_controller usage %: 94.83 | moet:  41.1 | mean_et: 15.4 \n",
      "============================================================================================ | num_experiments:  25\n"
     ]
    }
   ],
   "source": [
    "print(\"speed: 0.6ms, wall_time: 10ms\")\n",
    "total_e2e_sim += summarize_data(e0610)\n",
    "print(\"speed: 1.0ms, wall_time: 10ms\")\n",
    "total_e2e_sim += summarize_data(e1010)\n",
    "print(\"speed: 1.5ms, wall_time: 10ms\")\n",
    "total_e2e_sim += summarize_data(e1510)\n",
    "print(\"speed: 0.6ms, wall_time: 25ms\")\n",
    "total_e2e_sim += summarize_data(e0625)\n",
    "print(\"speed: 1.0ms, wall_time: 25ms\")\n",
    "total_e2e_sim += summarize_data(e1025)\n",
    "print(\"speed: 1.5ms, wall_time: 25ms\")\n",
    "total_e2e_sim += summarize_data(e1525)\n",
    "\n"
   ]
  },
  {
   "cell_type": "markdown",
   "metadata": {},
   "source": [
    "### End-to-End Experiments With Obstacles "
   ]
  },
  {
   "cell_type": "code",
   "execution_count": 88,
   "metadata": {},
   "outputs": [
    {
     "name": "stdout",
     "output_type": "stream",
     "text": [
      "speed: 0.6ms, wall_time: 10ms\n",
      "\n",
      "lec usage %: 3.25  | safety_controller usage %: 96.75 | moet:  22.3 | mean_et: 12.4 \n",
      "============================================================================================ | num_experiments:  25\n",
      "speed: 1.0ms, wall_time: 10ms\n",
      "\n",
      "lec usage %: 3.93  | safety_controller usage %: 96.07 | moet:  22.0 | mean_et: 11.7 \n",
      "============================================================================================ | num_experiments:  27\n",
      "speed: 1.5ms, wall_time: 10ms\n",
      "\n",
      "lec usage %: 4.75  | safety_controller usage %: 95.25 | moet:  21.5 | mean_et: 12.3 \n",
      "============================================================================================ | num_experiments:  26\n",
      "speed: 0.6ms, wall_time: 25ms\n",
      "\n",
      "lec usage %: 4.5  | safety_controller usage %: 95.5 | moet:  44.1 | mean_et: 20.6 \n",
      "============================================================================================ | num_experiments:  25\n",
      "speed: 1.0ms, wall_time: 25ms\n",
      "\n",
      "lec usage %: 7.8  | safety_controller usage %: 92.2 | moet:  48.2 | mean_et: 27.9 \n",
      "============================================================================================ | num_experiments:  64\n",
      "speed: 1.5ms, wall_time: 25ms\n",
      "\n",
      "lec usage %: 4.51  | safety_controller usage %: 95.49 | moet:  43.0 | mean_et: 20.9 \n",
      "============================================================================================ | num_experiments:  29\n"
     ]
    }
   ],
   "source": [
    "print(\"speed: 0.6ms, wall_time: 10ms\")\n",
    "total_e2e_sim +=summarize_data(e0610_obs)\n",
    "print(\"speed: 1.0ms, wall_time: 10ms\")\n",
    "total_e2e_sim +=summarize_data(e1010_obs)\n",
    "print(\"speed: 1.5ms, wall_time: 10ms\")\n",
    "total_e2e_sim +=summarize_data(e1510_obs)\n",
    "\n",
    "\n",
    "print(\"speed: 0.6ms, wall_time: 25ms\")\n",
    "total_e2e_sim +=summarize_data(e0625_obs)\n",
    "print(\"speed: 1.0ms, wall_time: 25ms\")\n",
    "total_e2e_sim +=summarize_data(e1025_obs)\n",
    "print(\"speed: 1.5ms, wall_time: 25ms\")\n",
    "total_e2e_sim +=summarize_data(e1525_obs)"
   ]
  },
  {
   "cell_type": "markdown",
   "metadata": {},
   "source": [
    "### RL Experiments With Obstacles"
   ]
  },
  {
   "cell_type": "code",
   "execution_count": 89,
   "metadata": {},
   "outputs": [
    {
     "name": "stdout",
     "output_type": "stream",
     "text": [
      "speed: 0.6ms, wall_time: 10ms\n",
      "\n",
      "lec usage %: 44.83  | safety_controller usage %: 55.17 | moet:  20.7 | mean_et: 13.1 \n",
      "============================================================================================ | num_experiments:  32\n",
      "speed: 1.0ms, wall_time: 10ms\n",
      "\n",
      "lec usage %: 43.31  | safety_controller usage %: 56.69 | moet:  20.1 | mean_et: 13.3 \n",
      "============================================================================================ | num_experiments:  29\n",
      "speed: 1.5ms, wall_time: 10ms\n",
      "\n",
      "lec usage %: 3.71  | safety_controller usage %: 96.29 | moet:  21.1 | mean_et: 12.6 \n",
      "============================================================================================ | num_experiments:  31\n",
      "speed: 0.6ms, wall_time: 25ms\n",
      "\n",
      "lec usage %: 45.34  | safety_controller usage %: 54.66 | moet:  48.7 | mean_et: 29.8 \n",
      "============================================================================================ | num_experiments:  29\n",
      "speed: 1.0ms, wall_time: 25ms\n",
      "\n",
      "lec usage %: 45.55  | safety_controller usage %: 54.45 | moet:  49.8 | mean_et: 30.5 \n",
      "============================================================================================ | num_experiments:  60\n",
      "speed: 1.5ms, wall_time: 25ms\n",
      "\n",
      "lec usage %: 1.89  | safety_controller usage %: 98.11 | moet:  49.2 | mean_et: 26.4 \n",
      "============================================================================================ | num_experiments:  25\n"
     ]
    }
   ],
   "source": [
    "print(\"speed: 0.6ms, wall_time: 10ms\")\n",
    "total_rl_sim += summarize_data(r0610_obs)\n",
    "print(\"speed: 1.0ms, wall_time: 10ms\")\n",
    "total_rl_sim += summarize_data(r1010_obs)\n",
    "print(\"speed: 1.5ms, wall_time: 10ms\")\n",
    "total_rl_sim += summarize_data(r1510_obs)\n",
    "\n",
    "print(\"speed: 0.6ms, wall_time: 25ms\")\n",
    "total_rl_sim += summarize_data(r0625_obs)\n",
    "print(\"speed: 1.0ms, wall_time: 25ms\")\n",
    "total_rl_sim += summarize_data(r1025_obs)\n",
    "print(\"speed: 1.5ms, wall_time: 25ms\")\n",
    "total_rl_sim += summarize_data(r1525_obs)"
   ]
  },
  {
   "cell_type": "markdown",
   "metadata": {},
   "source": [
    "### RL Experiements Without Obstacles"
   ]
  },
  {
   "cell_type": "code",
   "execution_count": 90,
   "metadata": {},
   "outputs": [
    {
     "name": "stdout",
     "output_type": "stream",
     "text": [
      "speed: 0.6ms, wall_time: 10ms\n",
      "\n",
      "lec usage %: 57.63  | safety_controller usage %: 42.37 | moet:  19.8 | mean_et: 13.5 \n",
      "============================================================================================ | num_experiments:  26\n",
      "speed: 1.0ms, wall_time: 10ms\n",
      "\n",
      "lec usage %: 62.92  | safety_controller usage %: 37.08 | moet:  19.3 | mean_et: 13.0 \n",
      "============================================================================================ | num_experiments:  26\n",
      "speed: 1.5ms, wall_time: 10ms\n",
      "\n",
      "lec usage %: 3.02  | safety_controller usage %: 96.98 | moet:  22.8 | mean_et: 13.5 \n",
      "============================================================================================ | num_experiments:  25\n",
      "speed: 0.6ms, wall_time: 25ms\n",
      "\n",
      "lec usage %: 56.9  | safety_controller usage %: 43.1 | moet:  49.3 | mean_et: 29.8 \n",
      "============================================================================================ | num_experiments:  65\n",
      "speed: 1.0ms, wall_time: 25ms\n",
      "\n",
      "lec usage %: 61.83  | safety_controller usage %: 38.17 | moet:  47.9 | mean_et: 31.0 \n",
      "============================================================================================ | num_experiments:  52\n",
      "speed: 1.5ms, wall_time: 25ms\n",
      "\n",
      "lec usage %: 4.67  | safety_controller usage %: 95.33 | moet:  49.8 | mean_et: 29.6 \n",
      "============================================================================================ | num_experiments:  26\n"
     ]
    }
   ],
   "source": [
    "print(\"speed: 0.6ms, wall_time: 10ms\")\n",
    "total_rl_sim += summarize_data(r0610)\n",
    "\n",
    "print(\"speed: 1.0ms, wall_time: 10ms\")\n",
    "total_rl_sim += summarize_data(r1010)\n",
    "\n",
    "print(\"speed: 1.5ms, wall_time: 10ms\")\n",
    "total_rl_sim += summarize_data(r1510)\n",
    "\n",
    "print(\"speed: 0.6ms, wall_time: 25ms\")\n",
    "total_rl_sim += summarize_data(r0625)\n",
    "\n",
    "print(\"speed: 1.0ms, wall_time: 25ms\")\n",
    "total_rl_sim += summarize_data(r1025)\n",
    "\n",
    "print(\"speed: 1.5ms, wall_time: 25ms\")\n",
    "total_rl_sim += summarize_data(r1525)"
   ]
  },
  {
   "cell_type": "markdown",
   "metadata": {},
   "source": [
    "# Total Simulation Experiments"
   ]
  },
  {
   "cell_type": "code",
   "execution_count": 91,
   "metadata": {},
   "outputs": [
    {
     "name": "stdout",
     "output_type": "stream",
     "text": [
      "RL Experiments: 663\n",
      "E2E Experiments: 540\n",
      "Total Sim Experiments:  1203\n"
     ]
    }
   ],
   "source": [
    "print(\"RL Experiments:\",total_rl_sim)\n",
    "print(\"E2E Experiments:\",total_e2e_sim)\n",
    "print(\"Total Sim Experiments: \",total_rl_sim+total_e2e_sim)"
   ]
  },
  {
   "cell_type": "markdown",
   "metadata": {},
   "source": [
    "### New Experiments"
   ]
  },
  {
   "cell_type": "code",
   "execution_count": 13,
   "metadata": {},
   "outputs": [
    {
     "name": "stdout",
     "output_type": "stream",
     "text": [
      "\n",
      "lec usage %: 42.79  | safety_controller usage %: 57.21 | moet:  55.0 | mean_et: 32.6 \n",
      "============================================================================================ | num_experiments:  42\n"
     ]
    },
    {
     "data": {
      "text/html": [
       "<div>\n",
       "<style scoped>\n",
       "    .dataframe tbody tr th:only-of-type {\n",
       "        vertical-align: middle;\n",
       "    }\n",
       "\n",
       "    .dataframe tbody tr th {\n",
       "        vertical-align: top;\n",
       "    }\n",
       "\n",
       "    .dataframe thead th {\n",
       "        text-align: right;\n",
       "    }\n",
       "</style>\n",
       "<table border=\"1\" class=\"dataframe\">\n",
       "  <thead>\n",
       "    <tr style=\"text-align: right;\">\n",
       "      <th></th>\n",
       "      <th>time_string</th>\n",
       "      <th>time_taken_lec</th>\n",
       "      <th>time_taken_safety_controller</th>\n",
       "      <th>total_time</th>\n",
       "      <th>wcet</th>\n",
       "      <th>mean_reach_time</th>\n",
       "    </tr>\n",
       "  </thead>\n",
       "  <tbody>\n",
       "    <tr>\n",
       "      <th>0</th>\n",
       "      <td>29/01/2021/16:37:06</td>\n",
       "      <td>9.65095</td>\n",
       "      <td>7.55449</td>\n",
       "      <td>17.20540</td>\n",
       "      <td>0.053645</td>\n",
       "      <td>0.034408</td>\n",
       "    </tr>\n",
       "    <tr>\n",
       "      <th>1</th>\n",
       "      <td>29/01/2021/16:50:06</td>\n",
       "      <td>34.51150</td>\n",
       "      <td>7.38108</td>\n",
       "      <td>41.89260</td>\n",
       "      <td>0.052445</td>\n",
       "      <td>0.038467</td>\n",
       "    </tr>\n",
       "    <tr>\n",
       "      <th>2</th>\n",
       "      <td>29/01/2021/16:51:51</td>\n",
       "      <td>1.97739</td>\n",
       "      <td>34.17590</td>\n",
       "      <td>36.15330</td>\n",
       "      <td>0.056190</td>\n",
       "      <td>0.030968</td>\n",
       "    </tr>\n",
       "    <tr>\n",
       "      <th>3</th>\n",
       "      <td>29/01/2021/16:52:39</td>\n",
       "      <td>1.55615</td>\n",
       "      <td>6.62191</td>\n",
       "      <td>8.17807</td>\n",
       "      <td>0.052239</td>\n",
       "      <td>0.030942</td>\n",
       "    </tr>\n",
       "    <tr>\n",
       "      <th>4</th>\n",
       "      <td>29/01/2021/16:54:58</td>\n",
       "      <td>1.36275</td>\n",
       "      <td>35.63090</td>\n",
       "      <td>36.99360</td>\n",
       "      <td>0.056361</td>\n",
       "      <td>0.031281</td>\n",
       "    </tr>\n",
       "    <tr>\n",
       "      <th>5</th>\n",
       "      <td>29/01/2021/16:56:23</td>\n",
       "      <td>32.68020</td>\n",
       "      <td>7.92361</td>\n",
       "      <td>40.60380</td>\n",
       "      <td>0.055900</td>\n",
       "      <td>0.036254</td>\n",
       "    </tr>\n",
       "    <tr>\n",
       "      <th>6</th>\n",
       "      <td>29/01/2021/16:58:07</td>\n",
       "      <td>1.68230</td>\n",
       "      <td>37.66890</td>\n",
       "      <td>39.35130</td>\n",
       "      <td>0.050024</td>\n",
       "      <td>0.034711</td>\n",
       "    </tr>\n",
       "    <tr>\n",
       "      <th>7</th>\n",
       "      <td>29/01/2021/16:58:50</td>\n",
       "      <td>1.59022</td>\n",
       "      <td>12.86630</td>\n",
       "      <td>14.45660</td>\n",
       "      <td>0.053944</td>\n",
       "      <td>0.034342</td>\n",
       "    </tr>\n",
       "    <tr>\n",
       "      <th>8</th>\n",
       "      <td>29/01/2021/17:01:27</td>\n",
       "      <td>2.20195</td>\n",
       "      <td>2.31205</td>\n",
       "      <td>4.51400</td>\n",
       "      <td>0.050523</td>\n",
       "      <td>0.034944</td>\n",
       "    </tr>\n",
       "    <tr>\n",
       "      <th>9</th>\n",
       "      <td>29/01/2021/17:04:55</td>\n",
       "      <td>25.56440</td>\n",
       "      <td>11.98110</td>\n",
       "      <td>37.54550</td>\n",
       "      <td>0.053570</td>\n",
       "      <td>0.033023</td>\n",
       "    </tr>\n",
       "    <tr>\n",
       "      <th>10</th>\n",
       "      <td>29/01/2021/17:06:37</td>\n",
       "      <td>22.73260</td>\n",
       "      <td>16.41600</td>\n",
       "      <td>39.14860</td>\n",
       "      <td>0.053675</td>\n",
       "      <td>0.034948</td>\n",
       "    </tr>\n",
       "    <tr>\n",
       "      <th>11</th>\n",
       "      <td>29/01/2021/17:08:10</td>\n",
       "      <td>1.67269</td>\n",
       "      <td>9.79863</td>\n",
       "      <td>11.47130</td>\n",
       "      <td>0.054656</td>\n",
       "      <td>0.007106</td>\n",
       "    </tr>\n",
       "    <tr>\n",
       "      <th>12</th>\n",
       "      <td>29/01/2021/17:09:42</td>\n",
       "      <td>1.56336</td>\n",
       "      <td>39.23290</td>\n",
       "      <td>40.79620</td>\n",
       "      <td>0.053936</td>\n",
       "      <td>0.035334</td>\n",
       "    </tr>\n",
       "    <tr>\n",
       "      <th>13</th>\n",
       "      <td>29/01/2021/17:11:01</td>\n",
       "      <td>12.60920</td>\n",
       "      <td>17.67890</td>\n",
       "      <td>30.28810</td>\n",
       "      <td>0.056447</td>\n",
       "      <td>0.030401</td>\n",
       "    </tr>\n",
       "    <tr>\n",
       "      <th>14</th>\n",
       "      <td>29/01/2021/17:12:33</td>\n",
       "      <td>17.27100</td>\n",
       "      <td>21.03610</td>\n",
       "      <td>38.30710</td>\n",
       "      <td>0.054912</td>\n",
       "      <td>0.032619</td>\n",
       "    </tr>\n",
       "    <tr>\n",
       "      <th>15</th>\n",
       "      <td>29/01/2021/17:14:03</td>\n",
       "      <td>19.18550</td>\n",
       "      <td>18.40180</td>\n",
       "      <td>37.58730</td>\n",
       "      <td>0.058599</td>\n",
       "      <td>0.032118</td>\n",
       "    </tr>\n",
       "    <tr>\n",
       "      <th>16</th>\n",
       "      <td>29/01/2021/17:15:33</td>\n",
       "      <td>22.12450</td>\n",
       "      <td>15.27480</td>\n",
       "      <td>37.39940</td>\n",
       "      <td>0.056591</td>\n",
       "      <td>0.032285</td>\n",
       "    </tr>\n",
       "    <tr>\n",
       "      <th>17</th>\n",
       "      <td>29/01/2021/17:17:04</td>\n",
       "      <td>1.82322</td>\n",
       "      <td>39.73890</td>\n",
       "      <td>41.56210</td>\n",
       "      <td>0.054818</td>\n",
       "      <td>0.035349</td>\n",
       "    </tr>\n",
       "    <tr>\n",
       "      <th>18</th>\n",
       "      <td>29/01/2021/17:18:34</td>\n",
       "      <td>1.68249</td>\n",
       "      <td>35.43330</td>\n",
       "      <td>37.11580</td>\n",
       "      <td>0.054636</td>\n",
       "      <td>0.031570</td>\n",
       "    </tr>\n",
       "    <tr>\n",
       "      <th>19</th>\n",
       "      <td>29/01/2021/17:20:18</td>\n",
       "      <td>27.93580</td>\n",
       "      <td>11.27420</td>\n",
       "      <td>39.21000</td>\n",
       "      <td>0.057098</td>\n",
       "      <td>0.033855</td>\n",
       "    </tr>\n",
       "    <tr>\n",
       "      <th>20</th>\n",
       "      <td>29/01/2021/17:21:48</td>\n",
       "      <td>22.38700</td>\n",
       "      <td>15.15420</td>\n",
       "      <td>37.54120</td>\n",
       "      <td>0.057681</td>\n",
       "      <td>0.032465</td>\n",
       "    </tr>\n",
       "    <tr>\n",
       "      <th>21</th>\n",
       "      <td>29/01/2021/17:23:19</td>\n",
       "      <td>4.36995</td>\n",
       "      <td>36.29590</td>\n",
       "      <td>40.66580</td>\n",
       "      <td>0.051803</td>\n",
       "      <td>0.034237</td>\n",
       "    </tr>\n",
       "    <tr>\n",
       "      <th>22</th>\n",
       "      <td>29/01/2021/17:25:02</td>\n",
       "      <td>22.20340</td>\n",
       "      <td>15.57770</td>\n",
       "      <td>37.78110</td>\n",
       "      <td>0.053938</td>\n",
       "      <td>0.033316</td>\n",
       "    </tr>\n",
       "    <tr>\n",
       "      <th>23</th>\n",
       "      <td>29/01/2021/17:26:45</td>\n",
       "      <td>21.67080</td>\n",
       "      <td>18.27570</td>\n",
       "      <td>39.94650</td>\n",
       "      <td>0.057384</td>\n",
       "      <td>0.034316</td>\n",
       "    </tr>\n",
       "    <tr>\n",
       "      <th>24</th>\n",
       "      <td>29/01/2021/17:28:17</td>\n",
       "      <td>21.89080</td>\n",
       "      <td>16.27960</td>\n",
       "      <td>38.17040</td>\n",
       "      <td>0.054421</td>\n",
       "      <td>0.032685</td>\n",
       "    </tr>\n",
       "    <tr>\n",
       "      <th>25</th>\n",
       "      <td>29/01/2021/17:30:01</td>\n",
       "      <td>28.60600</td>\n",
       "      <td>11.05480</td>\n",
       "      <td>39.66080</td>\n",
       "      <td>0.056990</td>\n",
       "      <td>0.034089</td>\n",
       "    </tr>\n",
       "    <tr>\n",
       "      <th>26</th>\n",
       "      <td>29/01/2021/17:31:34</td>\n",
       "      <td>21.32550</td>\n",
       "      <td>17.45140</td>\n",
       "      <td>38.77690</td>\n",
       "      <td>0.055454</td>\n",
       "      <td>0.033671</td>\n",
       "    </tr>\n",
       "    <tr>\n",
       "      <th>27</th>\n",
       "      <td>29/01/2021/17:33:04</td>\n",
       "      <td>10.64200</td>\n",
       "      <td>25.98400</td>\n",
       "      <td>36.62600</td>\n",
       "      <td>0.054504</td>\n",
       "      <td>0.031570</td>\n",
       "    </tr>\n",
       "    <tr>\n",
       "      <th>28</th>\n",
       "      <td>29/01/2021/17:34:47</td>\n",
       "      <td>19.84770</td>\n",
       "      <td>15.28240</td>\n",
       "      <td>35.13020</td>\n",
       "      <td>0.055689</td>\n",
       "      <td>0.030411</td>\n",
       "    </tr>\n",
       "    <tr>\n",
       "      <th>30</th>\n",
       "      <td>29/01/2021/17:47:15</td>\n",
       "      <td>14.93570</td>\n",
       "      <td>25.53890</td>\n",
       "      <td>40.47460</td>\n",
       "      <td>0.054576</td>\n",
       "      <td>0.036307</td>\n",
       "    </tr>\n",
       "    <tr>\n",
       "      <th>31</th>\n",
       "      <td>29/01/2021/17:48:56</td>\n",
       "      <td>11.21810</td>\n",
       "      <td>29.22610</td>\n",
       "      <td>40.44420</td>\n",
       "      <td>0.054375</td>\n",
       "      <td>0.035142</td>\n",
       "    </tr>\n",
       "    <tr>\n",
       "      <th>32</th>\n",
       "      <td>29/01/2021/17:50:40</td>\n",
       "      <td>21.37530</td>\n",
       "      <td>17.78320</td>\n",
       "      <td>39.15850</td>\n",
       "      <td>0.056517</td>\n",
       "      <td>0.033732</td>\n",
       "    </tr>\n",
       "    <tr>\n",
       "      <th>33</th>\n",
       "      <td>29/01/2021/17:52:23</td>\n",
       "      <td>1.38493</td>\n",
       "      <td>33.33270</td>\n",
       "      <td>34.71760</td>\n",
       "      <td>0.056754</td>\n",
       "      <td>0.029444</td>\n",
       "    </tr>\n",
       "    <tr>\n",
       "      <th>36</th>\n",
       "      <td>29/01/2021/18:40:11</td>\n",
       "      <td>28.46060</td>\n",
       "      <td>9.95053</td>\n",
       "      <td>38.41120</td>\n",
       "      <td>0.052511</td>\n",
       "      <td>0.033813</td>\n",
       "    </tr>\n",
       "    <tr>\n",
       "      <th>37</th>\n",
       "      <td>29/01/2021/18:41:42</td>\n",
       "      <td>20.31930</td>\n",
       "      <td>16.99560</td>\n",
       "      <td>37.31480</td>\n",
       "      <td>0.061917</td>\n",
       "      <td>0.032326</td>\n",
       "    </tr>\n",
       "    <tr>\n",
       "      <th>38</th>\n",
       "      <td>29/01/2021/18:43:11</td>\n",
       "      <td>25.73740</td>\n",
       "      <td>13.97380</td>\n",
       "      <td>39.71120</td>\n",
       "      <td>0.055190</td>\n",
       "      <td>0.033778</td>\n",
       "    </tr>\n",
       "    <tr>\n",
       "      <th>39</th>\n",
       "      <td>29/01/2021/18:44:44</td>\n",
       "      <td>18.01940</td>\n",
       "      <td>20.57880</td>\n",
       "      <td>38.59820</td>\n",
       "      <td>0.056001</td>\n",
       "      <td>0.032674</td>\n",
       "    </tr>\n",
       "    <tr>\n",
       "      <th>40</th>\n",
       "      <td>29/01/2021/18:46:15</td>\n",
       "      <td>18.06290</td>\n",
       "      <td>19.69870</td>\n",
       "      <td>37.76160</td>\n",
       "      <td>0.054761</td>\n",
       "      <td>0.032883</td>\n",
       "    </tr>\n",
       "    <tr>\n",
       "      <th>41</th>\n",
       "      <td>29/01/2021/18:47:47</td>\n",
       "      <td>18.02570</td>\n",
       "      <td>20.77770</td>\n",
       "      <td>38.80340</td>\n",
       "      <td>0.053043</td>\n",
       "      <td>0.032498</td>\n",
       "    </tr>\n",
       "    <tr>\n",
       "      <th>42</th>\n",
       "      <td>29/01/2021/18:48:59</td>\n",
       "      <td>14.33020</td>\n",
       "      <td>14.26160</td>\n",
       "      <td>28.59180</td>\n",
       "      <td>0.055831</td>\n",
       "      <td>0.032344</td>\n",
       "    </tr>\n",
       "    <tr>\n",
       "      <th>43</th>\n",
       "      <td>29/01/2021/18:50:46</td>\n",
       "      <td>22.25110</td>\n",
       "      <td>14.57480</td>\n",
       "      <td>36.82590</td>\n",
       "      <td>0.053719</td>\n",
       "      <td>0.031839</td>\n",
       "    </tr>\n",
       "    <tr>\n",
       "      <th>44</th>\n",
       "      <td>29/01/2021/18:52:20</td>\n",
       "      <td>15.20930</td>\n",
       "      <td>20.38690</td>\n",
       "      <td>35.59610</td>\n",
       "      <td>0.058642</td>\n",
       "      <td>0.030249</td>\n",
       "    </tr>\n",
       "  </tbody>\n",
       "</table>\n",
       "</div>"
      ],
      "text/plain": [
       "            time_string  time_taken_lec  time_taken_safety_controller  \\\n",
       "0   29/01/2021/16:37:06         9.65095                       7.55449   \n",
       "1   29/01/2021/16:50:06        34.51150                       7.38108   \n",
       "2   29/01/2021/16:51:51         1.97739                      34.17590   \n",
       "3   29/01/2021/16:52:39         1.55615                       6.62191   \n",
       "4   29/01/2021/16:54:58         1.36275                      35.63090   \n",
       "5   29/01/2021/16:56:23        32.68020                       7.92361   \n",
       "6   29/01/2021/16:58:07         1.68230                      37.66890   \n",
       "7   29/01/2021/16:58:50         1.59022                      12.86630   \n",
       "8   29/01/2021/17:01:27         2.20195                       2.31205   \n",
       "9   29/01/2021/17:04:55        25.56440                      11.98110   \n",
       "10  29/01/2021/17:06:37        22.73260                      16.41600   \n",
       "11  29/01/2021/17:08:10         1.67269                       9.79863   \n",
       "12  29/01/2021/17:09:42         1.56336                      39.23290   \n",
       "13  29/01/2021/17:11:01        12.60920                      17.67890   \n",
       "14  29/01/2021/17:12:33        17.27100                      21.03610   \n",
       "15  29/01/2021/17:14:03        19.18550                      18.40180   \n",
       "16  29/01/2021/17:15:33        22.12450                      15.27480   \n",
       "17  29/01/2021/17:17:04         1.82322                      39.73890   \n",
       "18  29/01/2021/17:18:34         1.68249                      35.43330   \n",
       "19  29/01/2021/17:20:18        27.93580                      11.27420   \n",
       "20  29/01/2021/17:21:48        22.38700                      15.15420   \n",
       "21  29/01/2021/17:23:19         4.36995                      36.29590   \n",
       "22  29/01/2021/17:25:02        22.20340                      15.57770   \n",
       "23  29/01/2021/17:26:45        21.67080                      18.27570   \n",
       "24  29/01/2021/17:28:17        21.89080                      16.27960   \n",
       "25  29/01/2021/17:30:01        28.60600                      11.05480   \n",
       "26  29/01/2021/17:31:34        21.32550                      17.45140   \n",
       "27  29/01/2021/17:33:04        10.64200                      25.98400   \n",
       "28  29/01/2021/17:34:47        19.84770                      15.28240   \n",
       "30  29/01/2021/17:47:15        14.93570                      25.53890   \n",
       "31  29/01/2021/17:48:56        11.21810                      29.22610   \n",
       "32  29/01/2021/17:50:40        21.37530                      17.78320   \n",
       "33  29/01/2021/17:52:23         1.38493                      33.33270   \n",
       "36  29/01/2021/18:40:11        28.46060                       9.95053   \n",
       "37  29/01/2021/18:41:42        20.31930                      16.99560   \n",
       "38  29/01/2021/18:43:11        25.73740                      13.97380   \n",
       "39  29/01/2021/18:44:44        18.01940                      20.57880   \n",
       "40  29/01/2021/18:46:15        18.06290                      19.69870   \n",
       "41  29/01/2021/18:47:47        18.02570                      20.77770   \n",
       "42  29/01/2021/18:48:59        14.33020                      14.26160   \n",
       "43  29/01/2021/18:50:46        22.25110                      14.57480   \n",
       "44  29/01/2021/18:52:20        15.20930                      20.38690   \n",
       "\n",
       "    total_time      wcet  mean_reach_time  \n",
       "0     17.20540  0.053645         0.034408  \n",
       "1     41.89260  0.052445         0.038467  \n",
       "2     36.15330  0.056190         0.030968  \n",
       "3      8.17807  0.052239         0.030942  \n",
       "4     36.99360  0.056361         0.031281  \n",
       "5     40.60380  0.055900         0.036254  \n",
       "6     39.35130  0.050024         0.034711  \n",
       "7     14.45660  0.053944         0.034342  \n",
       "8      4.51400  0.050523         0.034944  \n",
       "9     37.54550  0.053570         0.033023  \n",
       "10    39.14860  0.053675         0.034948  \n",
       "11    11.47130  0.054656         0.007106  \n",
       "12    40.79620  0.053936         0.035334  \n",
       "13    30.28810  0.056447         0.030401  \n",
       "14    38.30710  0.054912         0.032619  \n",
       "15    37.58730  0.058599         0.032118  \n",
       "16    37.39940  0.056591         0.032285  \n",
       "17    41.56210  0.054818         0.035349  \n",
       "18    37.11580  0.054636         0.031570  \n",
       "19    39.21000  0.057098         0.033855  \n",
       "20    37.54120  0.057681         0.032465  \n",
       "21    40.66580  0.051803         0.034237  \n",
       "22    37.78110  0.053938         0.033316  \n",
       "23    39.94650  0.057384         0.034316  \n",
       "24    38.17040  0.054421         0.032685  \n",
       "25    39.66080  0.056990         0.034089  \n",
       "26    38.77690  0.055454         0.033671  \n",
       "27    36.62600  0.054504         0.031570  \n",
       "28    35.13020  0.055689         0.030411  \n",
       "30    40.47460  0.054576         0.036307  \n",
       "31    40.44420  0.054375         0.035142  \n",
       "32    39.15850  0.056517         0.033732  \n",
       "33    34.71760  0.056754         0.029444  \n",
       "36    38.41120  0.052511         0.033813  \n",
       "37    37.31480  0.061917         0.032326  \n",
       "38    39.71120  0.055190         0.033778  \n",
       "39    38.59820  0.056001         0.032674  \n",
       "40    37.76160  0.054761         0.032883  \n",
       "41    38.80340  0.053043         0.032498  \n",
       "42    28.59180  0.055831         0.032344  \n",
       "43    36.82590  0.053719         0.031839  \n",
       "44    35.59610  0.058642         0.030249  "
      ]
     },
     "execution_count": 13,
     "metadata": {},
     "output_type": "execute_result"
    }
   ],
   "source": [
    "new_experiments = pd.read_csv('../benchmarking2021/benchmark_experiments.csv').dropna()\n",
    "summarize_data(new_experiments)\n",
    "new_experiments"
   ]
  },
  {
   "cell_type": "code",
   "execution_count": 5,
   "metadata": {},
   "outputs": [
    {
     "name": "stdout",
     "output_type": "stream",
     "text": [
      "benchmark_experiments.csv\r\n"
     ]
    }
   ],
   "source": [
    "ls ../benchmarking2021/benchmark_experiments.csv"
   ]
  },
  {
   "cell_type": "code",
   "execution_count": null,
   "metadata": {},
   "outputs": [],
   "source": []
  }
 ],
 "metadata": {
  "kernelspec": {
   "display_name": "Python 3",
   "language": "python",
   "name": "python3"
  },
  "language_info": {
   "codemirror_mode": {
    "name": "ipython",
    "version": 3
   },
   "file_extension": ".py",
   "mimetype": "text/x-python",
   "name": "python",
   "nbconvert_exporter": "python",
   "pygments_lexer": "ipython3",
   "version": "3.7.3"
  }
 },
 "nbformat": 4,
 "nbformat_minor": 2
}
